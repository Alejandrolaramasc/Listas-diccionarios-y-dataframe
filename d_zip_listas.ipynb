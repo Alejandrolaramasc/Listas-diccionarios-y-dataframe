{
 "cells": [
  {
   "cell_type": "code",
   "execution_count": 1,
   "metadata": {},
   "outputs": [
    {
     "name": "stdout",
     "output_type": "stream",
     "text": [
      "[('Larrain', 'Perez', 'Errazuriz', 'Gonzalez'), ('F', 'F', 'F', 'M'), (25, 33, 29, 43), (1.7, 1.6, 1.77, 1.9)]\n"
     ]
    }
   ],
   "source": [
    "#Las siguientes listas contienen: apellido, sexo, edad y altura\n",
    "lista1=['Larrain', 'F', 25, 1.70]\n",
    "lista2=['Perez', 'F', 33, 1.60]\n",
    "lista3=['Errazuriz', 'F', 29, 1.77]\n",
    "lista4=['Gonzalez', 'M', 43, 1.90]\n",
    "\n",
    "z = zip(lista1, lista2, lista3, lista4)\n",
    "lista_anidada = list(z)\n",
    "# entrega una lista de tuplas\n",
    "print(lista_anidada)"
   ]
  },
  {
   "cell_type": "code",
   "execution_count": 2,
   "metadata": {},
   "outputs": [
    {
     "name": "stdout",
     "output_type": "stream",
     "text": [
      "El promedio de edad es 32.5\n",
      "El promedio de altura es 1.74\n"
     ]
    }
   ],
   "source": [
    "def promedio(lista):\n",
    "    return sum(lista) / len(lista)\n",
    "print(\"El promedio de edad es\", promedio(lista_anidada[2]))\n",
    "print(\"El promedio de altura es\", round(promedio(lista_anidada[3]), 2))"
   ]
  },
  {
   "cell_type": "code",
   "execution_count": null,
   "metadata": {},
   "outputs": [],
   "source": []
  }
 ],
 "metadata": {
  "kernelspec": {
   "display_name": "Python 3",
   "language": "python",
   "name": "python3"
  },
  "language_info": {
   "codemirror_mode": {
    "name": "ipython",
    "version": 3
   },
   "file_extension": ".py",
   "mimetype": "text/x-python",
   "name": "python",
   "nbconvert_exporter": "python",
   "pygments_lexer": "ipython3",
   "version": "3.7.6"
  }
 },
 "nbformat": 4,
 "nbformat_minor": 4
}
