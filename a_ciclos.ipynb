{
 "cells": [
  {
   "cell_type": "markdown",
   "metadata": {},
   "source": [
    "En el ciclo for no se inicializa un iterador antes del ciclo, \n",
    "porque se define dentro del mismo for.\n",
    "Es normalmente usado cuando se conoce previamente el número de iteraciones.\n",
    "En este caso también debemos inicializar un acumulador antes del ciclo."
   ]
  },
  {
   "cell_type": "code",
   "execution_count": 1,
   "metadata": {},
   "outputs": [
    {
     "name": "stdout",
     "output_type": "stream",
     "text": [
      "La suma de los 100 primeros números naturales es: 5050\n"
     ]
    }
   ],
   "source": [
    "suma = 0\n",
    "for i in range(101):\n",
    "    suma += i\n",
    "\n",
    "print(\"La suma de los 100 primeros números naturales es: {}\".format(suma))"
   ]
  },
  {
   "cell_type": "markdown",
   "metadata": {},
   "source": [
    "En el ciclo while se debe inicializar un iterador fuera del cilco y previamente.\n",
    "Lo mismo para el acumulador.\n",
    "La ventaja del cilco while sobre el for es que se usa cuando no se sabe exactamente el número de iteraciones."
   ]
  },
  {
   "cell_type": "code",
   "execution_count": 2,
   "metadata": {},
   "outputs": [
    {
     "name": "stdout",
     "output_type": "stream",
     "text": [
      "La suma de los 100 primeros números naturales es: 5050\n"
     ]
    }
   ],
   "source": [
    "suma=0\n",
    "i=0\n",
    "while i < 101:\n",
    "    suma = suma + i\n",
    "    i = i + 1\n",
    "\n",
    "print(\"La suma de los 100 primeros números naturales es: {}\".format(suma))"
   ]
  },
  {
   "cell_type": "code",
   "execution_count": null,
   "metadata": {},
   "outputs": [],
   "source": []
  }
 ],
 "metadata": {
  "kernelspec": {
   "display_name": "Python 3",
   "language": "python",
   "name": "python3"
  },
  "language_info": {
   "codemirror_mode": {
    "name": "ipython",
    "version": 3
   },
   "file_extension": ".py",
   "mimetype": "text/x-python",
   "name": "python",
   "nbconvert_exporter": "python",
   "pygments_lexer": "ipython3",
   "version": "3.7.6"
  }
 },
 "nbformat": 4,
 "nbformat_minor": 4
}
