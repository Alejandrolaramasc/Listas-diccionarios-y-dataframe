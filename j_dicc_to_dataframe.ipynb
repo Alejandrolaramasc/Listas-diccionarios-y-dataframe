{
 "cells": [
  {
   "cell_type": "code",
   "execution_count": 1,
   "metadata": {},
   "outputs": [
    {
     "name": "stdout",
     "output_type": "stream",
     "text": [
      "        country    capital   area  population\n",
      "0        Brazil   Brasilia   8516      200.40\n",
      "1        Russia     Moscow  17100      143.50\n",
      "2         India  New Delhi   3286     1252.00\n",
      "3         China    Beijing   9597     1357.00\n",
      "4  South Africa   Pretoria   1221       52.98\n"
     ]
    }
   ],
   "source": [
    "#DataFrame desde diccionario en la consola\n",
    "dict = {\n",
    "\"country\":[\"Brazil\", \"Russia\", \"India\", \"China\", \"South Africa\"],\n",
    "\"capital\":[\"Brasilia\", \"Moscow\", \"New Delhi\", \"Beijing\", \"Pretoria\"],\n",
    "\"area\":[8516, 17100, 3286, 9597, 1221],\n",
    "\"population\":[200.4, 143.5, 1252, 1357, 52.98] }\n",
    "import pandas as pd\n",
    "paises = pd.DataFrame(dict)\n",
    "print(paises)"
   ]
  },
  {
   "cell_type": "code",
   "execution_count": 2,
   "metadata": {},
   "outputs": [],
   "source": [
    "#para guardar un dataframe como archivo csv\n",
    "paises.to_csv('countries.csv')"
   ]
  },
  {
   "cell_type": "code",
   "execution_count": null,
   "metadata": {},
   "outputs": [],
   "source": []
  }
 ],
 "metadata": {
  "kernelspec": {
   "display_name": "Python 3",
   "language": "python",
   "name": "python3"
  },
  "language_info": {
   "codemirror_mode": {
    "name": "ipython",
    "version": 3
   },
   "file_extension": ".py",
   "mimetype": "text/x-python",
   "name": "python",
   "nbconvert_exporter": "python",
   "pygments_lexer": "ipython3",
   "version": "3.7.6"
  }
 },
 "nbformat": 4,
 "nbformat_minor": 4
}
