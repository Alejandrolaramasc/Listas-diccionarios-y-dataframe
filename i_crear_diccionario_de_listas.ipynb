{
 "cells": [
  {
   "cell_type": "markdown",
   "metadata": {},
   "source": [
    "Los diccionarios se pueden crear a partir de las listas "
   ]
  },
  {
   "cell_type": "code",
   "execution_count": 1,
   "metadata": {},
   "outputs": [
    {
     "name": "stdout",
     "output_type": "stream",
     "text": [
      "{'Carlos': 10, 'Ivonne': 7, 'Jacqueline': 10, 'Martin': 9}\n"
     ]
    }
   ],
   "source": [
    "nombres = ['Carlos', 'Ivonne', 'Jacqueline', 'Martin']\n",
    "notas_emprendedor = [10, 7, 10, 9]\n",
    "notas_por_alumno1 = {}\n",
    "for i in range(len(nombres)):\n",
    "    alumno = nombres[i]\n",
    "    notas = notas_emprendedor[i]\n",
    "    notas_por_alumno1[alumno] = notas\n",
    "print(notas_por_alumno1)"
   ]
  },
  {
   "cell_type": "code",
   "execution_count": 2,
   "metadata": {},
   "outputs": [
    {
     "name": "stdout",
     "output_type": "stream",
     "text": [
      "{'Carlos': 10, 'Ivonne': 7, 'Jacqueline': 10, 'Martin': 9}\n"
     ]
    }
   ],
   "source": [
    "nombres = ['Carlos', 'Ivonne', 'Jacqueline', 'Martin']\n",
    "notas_emprendedor = [10, 7, 10, 9]\n",
    "notas_por_alumno2 =dict(zip(nombres, notas_emprendedor))\n",
    "print(notas_por_alumno2)"
   ]
  },
  {
   "cell_type": "markdown",
   "metadata": {},
   "source": [
    "Pero también se pueden convertir diccionarios en listas"
   ]
  },
  {
   "cell_type": "code",
   "execution_count": 3,
   "metadata": {},
   "outputs": [
    {
     "name": "stdout",
     "output_type": "stream",
     "text": [
      "[('Carlos', 10), ('Ivonne', 7), ('Jacqueline', 10), ('Martin', 9)]\n"
     ]
    }
   ],
   "source": [
    "lista_alumnos = list(notas_por_alumno2.items())\n",
    "print(lista_alumnos)"
   ]
  },
  {
   "cell_type": "code",
   "execution_count": null,
   "metadata": {},
   "outputs": [],
   "source": []
  }
 ],
 "metadata": {
  "kernelspec": {
   "display_name": "Python 3",
   "language": "python",
   "name": "python3"
  },
  "language_info": {
   "codemirror_mode": {
    "name": "ipython",
    "version": 3
   },
   "file_extension": ".py",
   "mimetype": "text/x-python",
   "name": "python",
   "nbconvert_exporter": "python",
   "pygments_lexer": "ipython3",
   "version": "3.7.6"
  }
 },
 "nbformat": 4,
 "nbformat_minor": 4
}
