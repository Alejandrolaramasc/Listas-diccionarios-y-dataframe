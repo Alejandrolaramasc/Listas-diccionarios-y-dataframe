{
 "cells": [
  {
   "cell_type": "markdown",
   "metadata": {},
   "source": [
    " En teoría de la complejidad computacional, \n",
    " la complejidad computacional asintótica es el uso de análisis asintótico \n",
    " para la estimación de la complejidad computacional de algoritmos y problemas de cálculo, \n",
    " comúnmente asociados con el uso de la gran notación O.\n",
    " Complejidad asintótica del algoritmo: O(n)"
   ]
  },
  {
   "cell_type": "code",
   "execution_count": 3,
   "metadata": {},
   "outputs": [
    {
     "name": "stdout",
     "output_type": "stream",
     "text": [
      "ingrese el número de elementos: 1000\n",
      "formamos la lista: \n",
      "ingrese el número buscado: 95\n",
      "True\n",
      "Elapsed time: 0.0003347397 seconds.\n"
     ]
    }
   ],
   "source": [
    "import random\n",
    "from time import time\n",
    "lista = []\n",
    "n = int(input(\"ingrese el número de elementos: \"))\n",
    "print(\"formamos la lista: \")\n",
    "# crearé una lista de números naturales aleatorios con valores desde 1 hasta una potencia de 10\n",
    "for i in range(n):\n",
    "    lista.append(random.randint(1, 100))\n",
    "#print(lista)\n",
    "m = int(input(\"ingrese el número buscado: \"))\n",
    "\n",
    "def busqueda_lineal(lista, m):\n",
    "    for item in lista:\n",
    "        if item == m:\n",
    "          return True\n",
    "    return False\n",
    "print(busqueda_lineal(lista, m))\n",
    "\n",
    "start_time = time()\n",
    "busqueda_lineal(lista, m)\n",
    "elapsed_time = time() - start_time\n",
    "print(\"Elapsed time: %.10f seconds.\" % elapsed_time)"
   ]
  },
  {
   "cell_type": "markdown",
   "metadata": {},
   "source": [
    "Tenemos diferentes casos posibles:\n",
    "    • El caso optimista: El elemento se encuentra en la primera posición de la lista, \n",
    "    por lo tanto se itera una sóla vez.\n",
    "    • El peor caso: El elemento se encuentra al final de la lista. \n",
    "    Por lo tanto se debería iterar n veces donde n es la cantidad de elementos de la lista.\n",
    "    • El caso promedio: Donde se revisarán una cantidad de elementos proporcional \n",
    "    a la cantidad de elementos de la lista.\n",
    "\n",
    "    ¿Podemos hacer algo mejor? Trataremos de aprovechar el hecho de que la lista está ordenada \n",
    "    y vamos a hacer algo distinto: nuestro espacio de búsqueda se irá achicando a segmentos \n",
    "    cada vez menores de la lista original. La idea es descartar segmentos de la lista \n",
    "    donde el valor seguro que no puede estar:\n",
    "\n",
    "1. Consideramos como segmento inicial de búsqueda a la lista completa.\n",
    "2. Analizamos el punto medio del segmento (el valor central), si es el valor buscado, \n",
    "devolvemos el índice del punto medio.\n",
    "3. Si el valor central es mayor al buscado, podemos descartar el segmento \n",
    "que está desde el punto medio hacia la a derecha.\n",
    "4. Si el valor central es menor al buscado, podemos descartar el segmento \n",
    "que está desde el punto medio hacia la izquierda.\n",
    "5. Una vez descartado el segmento que no nos interesa, volvemos a analizar el segmento restante, \n",
    "de la misma forma.\n",
    "6. Si en algún momento el segmento a analizar tiene longitud 0 o negativa significa \n",
    "que el valor buscado no se encuentra en la lista."
   ]
  },
  {
   "cell_type": "code",
   "execution_count": 4,
   "metadata": {},
   "outputs": [
    {
     "name": "stdout",
     "output_type": "stream",
     "text": [
      "True\n",
      "Elapsed time: 0.0003614426 seconds.\n"
     ]
    }
   ],
   "source": [
    "lista.sort()\n",
    "#print(lista)\n",
    "# Complejidad asintótica del algoritmo: O(log2(n))\n",
    "def busqueda_binaria(lista, m):\n",
    "    found = False\n",
    "    a = 0\n",
    "    b = len(lista) - 1\n",
    "    while not found and a <= b:\n",
    "        mid = (a + b) // 2 # entrega la parte entera\n",
    "        if lista[mid] == m:\n",
    "            found = True\n",
    "        elif m > lista[mid]:\n",
    "            a = mid + 1\n",
    "        else:\n",
    "            b = mid - 1\n",
    "    return found\n",
    "print(busqueda_binaria(lista, m))\n",
    "\n",
    "start_time = time()\n",
    "busqueda_binaria(lista, m)\n",
    "elapsed_time = time() - start_time\n",
    "print(\"Elapsed time: %.10f seconds.\" % elapsed_time)"
   ]
  },
  {
   "cell_type": "code",
   "execution_count": null,
   "metadata": {},
   "outputs": [],
   "source": []
  }
 ],
 "metadata": {
  "kernelspec": {
   "display_name": "Python 3",
   "language": "python",
   "name": "python3"
  },
  "language_info": {
   "codemirror_mode": {
    "name": "ipython",
    "version": 3
   },
   "file_extension": ".py",
   "mimetype": "text/x-python",
   "name": "python",
   "nbconvert_exporter": "python",
   "pygments_lexer": "ipython3",
   "version": "3.7.6"
  }
 },
 "nbformat": 4,
 "nbformat_minor": 4
}
