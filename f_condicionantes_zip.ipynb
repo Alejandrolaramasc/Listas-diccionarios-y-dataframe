{
 "cells": [
  {
   "cell_type": "markdown",
   "metadata": {},
   "source": [
    "Crearé 2 listas del mismo largo de números enteros aleatorios."
   ]
  },
  {
   "cell_type": "code",
   "execution_count": 1,
   "metadata": {},
   "outputs": [
    {
     "name": "stdout",
     "output_type": "stream",
     "text": [
      "Ingrese cuantos numeros aleatorios desea obtener\n",
      "10\n"
     ]
    }
   ],
   "source": [
    "import random\n",
    "\n",
    "def lista_aleatorios(n):\n",
    "      lista = []\n",
    "      for i in range(n):\n",
    "          lista.append(random.randint(1, 10))\n",
    "      return lista\n",
    "\n",
    "print(\"Ingrese cuantos numeros aleatorios desea obtener\")\n",
    "n=int(input())"
   ]
  },
  {
   "cell_type": "code",
   "execution_count": 3,
   "metadata": {},
   "outputs": [
    {
     "name": "stdout",
     "output_type": "stream",
     "text": [
      "[10, 2, 6, 6, 9, 8, 1, 10, 4, 2]\n",
      "[8, 7, 10, 9, 5, 4, 5, 6, 2, 4]\n"
     ]
    }
   ],
   "source": [
    "aleatorios1 = lista_aleatorios(n)\n",
    "aleatorios2 = lista_aleatorios(n)\n",
    "print(aleatorios1)\n",
    "print(aleatorios2)"
   ]
  },
  {
   "cell_type": "code",
   "execution_count": 4,
   "metadata": {},
   "outputs": [
    {
     "name": "stdout",
     "output_type": "stream",
     "text": [
      "5.8\n",
      "6.0\n"
     ]
    }
   ],
   "source": [
    "def promedio(lista):\n",
    "    return sum(lista) / len(lista)\n",
    "\n",
    "print(round(promedio(aleatorios1), 2))\n",
    "print(round(promedio(aleatorios2), 2))"
   ]
  },
  {
   "cell_type": "markdown",
   "metadata": {},
   "source": [
    "1° Haré que se cuenten los valores en aleatorios1 bajo el promedio (cont_bpa1)\n",
    "2° También contaré los valores en aleatorios1 bajo el promedio \n",
    "y en aleatorios2 sobre el promedio (cont_bpa1_y_spa2). Por \"pura lógica\" el número de posibilidades para este 2° caso tiene que ser menor o igual al 1° caso. Eso"
   ]
  },
  {
   "cell_type": "code",
   "execution_count": 5,
   "metadata": {},
   "outputs": [
    {
     "name": "stdout",
     "output_type": "stream",
     "text": [
      "4\n",
      "1\n"
     ]
    }
   ],
   "source": [
    "cont_bpa1 = 0\n",
    "cont_bpa1_y_spa2 = 0\n",
    "cont_3 = 0\n",
    "cont_4 = 0\n",
    "for i in zip(aleatorios1, aleatorios2):\n",
    "    if i[0] < promedio(aleatorios1):\n",
    "        cont_bpa1 += 1\n",
    "        if i[1] > promedio(aleatorios2):\n",
    "            cont_bpa1_y_spa2 += 1\n",
    "    elif i[0] > promedio(aleatorios1):\n",
    "            cont_3 += 1\n",
    "            if i[1] < promedio(aleatorios2):\n",
    "                cont_4 += 1\n",
    "        \n",
    "print(cont_bpa1)\n",
    "print(cont_bpa1_y_spa2)"
   ]
  },
  {
   "cell_type": "code",
   "execution_count": null,
   "metadata": {},
   "outputs": [],
   "source": []
  }
 ],
 "metadata": {
  "kernelspec": {
   "display_name": "Python 3",
   "language": "python",
   "name": "python3"
  },
  "language_info": {
   "codemirror_mode": {
    "name": "ipython",
    "version": 3
   },
   "file_extension": ".py",
   "mimetype": "text/x-python",
   "name": "python",
   "nbconvert_exporter": "python",
   "pygments_lexer": "ipython3",
   "version": "3.7.6"
  }
 },
 "nbformat": 4,
 "nbformat_minor": 4
}
