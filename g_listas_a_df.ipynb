{
 "cells": [
  {
   "cell_type": "markdown",
   "metadata": {},
   "source": [
    "Construiré un dataframe a partir de las 4 listas usadas en ejercicios anteriores:"
   ]
  },
  {
   "cell_type": "code",
   "execution_count": 1,
   "metadata": {},
   "outputs": [
    {
     "name": "stdout",
     "output_type": "stream",
     "text": [
      "[['Larrain', 'F', 25, 1.7], ['Perez', 'F', 33, 1.6], ['Errazuriz', 'F', 29, 1.77], ['Gonzalez', 'M', 43, 1.9]]\n"
     ]
    }
   ],
   "source": [
    "import pandas as pd\n",
    "\n",
    "lista1 = ['Larrain', 'F', 25, 1.70]\n",
    "lista2 = ['Perez', 'F', 33, 1.60]\n",
    "lista3 = ['Errazuriz', 'F', 29, 1.77]\n",
    "lista4 = ['Gonzalez', 'M', 43, 1.90]\n",
    "columns = ['apellido', 'sexo', 'edad', 'altura']\n",
    "\n",
    "lista_concatenada = [lista1, lista2, lista3, lista4]\n",
    "print(lista_concatenada)\n"
   ]
  },
  {
   "cell_type": "code",
   "execution_count": 2,
   "metadata": {},
   "outputs": [
    {
     "name": "stdout",
     "output_type": "stream",
     "text": [
      "    apellido sexo  edad  altura\n",
      "0    Larrain    F    25    1.70\n",
      "1      Perez    F    33    1.60\n",
      "2  Errazuriz    F    29    1.77\n",
      "3   Gonzalez    M    43    1.90\n"
     ]
    }
   ],
   "source": [
    "df = pd.DataFrame(lista_concatenada, columns=['apellido', 'sexo', 'edad', 'altura'])\n",
    "print(df)"
   ]
  },
  {
   "cell_type": "code",
   "execution_count": 5,
   "metadata": {},
   "outputs": [],
   "source": [
    "L = df.values.tolist() # ésto para ir en el sentido inverso: hacer una lista de listas"
   ]
  },
  {
   "cell_type": "code",
   "execution_count": 6,
   "metadata": {},
   "outputs": [
    {
     "name": "stdout",
     "output_type": "stream",
     "text": [
      "[['Larrain', 'F', 25, 1.7], ['Perez', 'F', 33, 1.6], ['Errazuriz', 'F', 29, 1.77], ['Gonzalez', 'M', 43, 1.9]]\n"
     ]
    }
   ],
   "source": [
    "print(L)"
   ]
  },
  {
   "cell_type": "markdown",
   "metadata": {},
   "source": [
    "Lo siguiente es para volver a las listas originales:"
   ]
  },
  {
   "cell_type": "code",
   "execution_count": 24,
   "metadata": {},
   "outputs": [
    {
     "name": "stdout",
     "output_type": "stream",
     "text": [
      "['Larrain', 'F', 25, 1.7]\n",
      "['Perez', 'F', 33, 1.6]\n",
      "['Errazuriz', 'F', 29, 1.77]\n",
      "['Gonzalez', 'M', 43, 1.9]\n"
     ]
    }
   ],
   "source": [
    "print(L[0])\n",
    "print(L[1]) \n",
    "print(L[2])\n",
    "print(L[3])"
   ]
  },
  {
   "cell_type": "markdown",
   "metadata": {},
   "source": [
    "Lo siguiente es para hacer un subset de datos sólo de la persona Errazuriz:"
   ]
  },
  {
   "cell_type": "code",
   "execution_count": 20,
   "metadata": {},
   "outputs": [
    {
     "name": "stdout",
     "output_type": "stream",
     "text": [
      "    apellido sexo  edad  altura\n",
      "2  Errazuriz    F    29    1.77\n"
     ]
    }
   ],
   "source": [
    "df_errazuriz = df[df['apellido'] == 'Errazuriz']\n",
    "print(df_errazuriz)"
   ]
  },
  {
   "cell_type": "code",
   "execution_count": null,
   "metadata": {},
   "outputs": [],
   "source": []
  }
 ],
 "metadata": {
  "kernelspec": {
   "display_name": "Python 3",
   "language": "python",
   "name": "python3"
  },
  "language_info": {
   "codemirror_mode": {
    "name": "ipython",
    "version": 3
   },
   "file_extension": ".py",
   "mimetype": "text/x-python",
   "name": "python",
   "nbconvert_exporter": "python",
   "pygments_lexer": "ipython3",
   "version": "3.7.6"
  }
 },
 "nbformat": 4,
 "nbformat_minor": 4
}
