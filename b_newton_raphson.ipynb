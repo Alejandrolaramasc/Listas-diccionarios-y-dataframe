{
 "cells": [
  {
   "cell_type": "markdown",
   "metadata": {},
   "source": [
    "Esta función calcula la raíz cuadrada de un número por el método de Newton-Raphson.\n",
    "Para ello definimos un cilco while porque no sabemos la cantidad de iteraciones. "
   ]
  },
  {
   "cell_type": "code",
   "execution_count": 3,
   "metadata": {},
   "outputs": [
    {
     "name": "stdout",
     "output_type": "stream",
     "text": [
      "4\n",
      "La raiz de 2 es 1.4142135623746899\n",
      "6\n",
      "La raiz de 25 es 5.000000000053723\n",
      "6\n",
      "La raiz de 19 es 4.358898943541578\n"
     ]
    }
   ],
   "source": [
    "def raiz_newton_raphson(a, tol=1e-3):\n",
    "    x0 = a\n",
    "    x1 = x0 - (x0 ** 2 - a) / (2 * x0)\n",
    "    counter = 1\n",
    "    while not abs(x1 - x0) <= tol:\n",
    "        x0 = x1\n",
    "        x1 = x0 - (x0 ** 2 - a) / (2 * x0)\n",
    "        counter += 1\n",
    "    print(counter)\n",
    "    return x1\n",
    "\n",
    "print(f\"La raiz de 2 es {raiz_newton_raphson(2)}\")\n",
    "print(f\"La raiz de 25 es {raiz_newton_raphson(25)}\")\n",
    "print(f\"La raiz de 19 es {raiz_newton_raphson(19)}\")"
   ]
  },
  {
   "cell_type": "code",
   "execution_count": null,
   "metadata": {},
   "outputs": [],
   "source": []
  }
 ],
 "metadata": {
  "kernelspec": {
   "display_name": "Python 3",
   "language": "python",
   "name": "python3"
  },
  "language_info": {
   "codemirror_mode": {
    "name": "ipython",
    "version": 3
   },
   "file_extension": ".py",
   "mimetype": "text/x-python",
   "name": "python",
   "nbconvert_exporter": "python",
   "pygments_lexer": "ipython3",
   "version": "3.7.6"
  }
 },
 "nbformat": 4,
 "nbformat_minor": 4
}
