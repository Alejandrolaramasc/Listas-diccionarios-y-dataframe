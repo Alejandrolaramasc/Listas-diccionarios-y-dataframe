{
 "cells": [
  {
   "cell_type": "markdown",
   "metadata": {},
   "source": [
    "Craeré un dicionario a partir del método groupby()"
   ]
  },
  {
   "cell_type": "code",
   "execution_count": 1,
   "metadata": {},
   "outputs": [],
   "source": [
    "from itertools import groupby\n",
    "palabras = ['hola', 'a', 'todos', 'y', 'cada', 'uno']"
   ]
  },
  {
   "cell_type": "markdown",
   "metadata": {},
   "source": [
    "Para ésto debo asignar un par clave, valor.\n",
    "Crearé el diccionario asociando el número de letras de la palabra (clave)\n",
    "con una lista (valor) ¿por qué una lista? \n",
    "porque pueden existir más de un valor para una clave. ¡Las claves son inmutables!"
   ]
  },
  {
   "cell_type": "code",
   "execution_count": 2,
   "metadata": {},
   "outputs": [
    {
     "name": "stdout",
     "output_type": "stream",
     "text": [
      "{4: ['cada'], 1: ['y'], 5: ['todos'], 3: ['uno']}\n"
     ]
    }
   ],
   "source": [
    "diccionario = {k: list(v) for k, v in groupby(palabras, key=len)}\n",
    "print(diccionario)"
   ]
  },
  {
   "cell_type": "markdown",
   "metadata": {},
   "source": [
    "y no funciona!\n",
    "{4: ['cada'], 1: ['y'], 5: ['todos'], 3: ['uno']}\n",
    "ésto es porque primero hay que ordenar la lista por cantidad de letras,\n",
    "el método sort() por defecto ordena de menor a mayor considerando el orden alfabético\n",
    "palabras.sort()\n",
    "print(palabras)\n",
    "['a', 'cada', 'hola', 'todos', 'uno', 'y']\n",
    "pero si le pasamos el parámetro opcional key=len, el método sort() ordena considerando \n",
    "el número de letras de cada palabra"
   ]
  },
  {
   "cell_type": "code",
   "execution_count": 3,
   "metadata": {},
   "outputs": [
    {
     "name": "stdout",
     "output_type": "stream",
     "text": [
      "['a', 'y', 'uno', 'hola', 'cada', 'todos']\n"
     ]
    }
   ],
   "source": [
    "palabras.sort(key=lambda x:len(x))\n",
    "print(palabras)"
   ]
  },
  {
   "cell_type": "code",
   "execution_count": 4,
   "metadata": {},
   "outputs": [
    {
     "name": "stdout",
     "output_type": "stream",
     "text": [
      "{1: ['a', 'y'], 3: ['uno'], 4: ['hola', 'cada'], 5: ['todos']}\n"
     ]
    }
   ],
   "source": [
    "diccionario = {k: list(v) for k, v in groupby(palabras, key=len)}\n",
    "print(diccionario)"
   ]
  },
  {
   "cell_type": "code",
   "execution_count": null,
   "metadata": {},
   "outputs": [],
   "source": []
  }
 ],
 "metadata": {
  "kernelspec": {
   "display_name": "Python 3",
   "language": "python",
   "name": "python3"
  },
  "language_info": {
   "codemirror_mode": {
    "name": "ipython",
    "version": 3
   },
   "file_extension": ".py",
   "mimetype": "text/x-python",
   "name": "python",
   "nbconvert_exporter": "python",
   "pygments_lexer": "ipython3",
   "version": "3.7.6"
  }
 },
 "nbformat": 4,
 "nbformat_minor": 4
}
