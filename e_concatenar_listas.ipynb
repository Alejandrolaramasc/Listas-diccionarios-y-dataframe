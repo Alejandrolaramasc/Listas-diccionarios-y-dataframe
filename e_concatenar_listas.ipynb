{
 "cells": [
  {
   "cell_type": "code",
   "execution_count": 2,
   "metadata": {},
   "outputs": [
    {
     "name": "stdout",
     "output_type": "stream",
     "text": [
      "[('Larrain', 'Perez', 'Errazuriz', 'Gonzalez'), ('F', 'F', 'F', 'M'), (25, 33, 29, 43), (1.7, 1.6, 1.77, 1.9)]\n",
      "32.5\n",
      "1.7425000000000002\n",
      "[['Larrain', 'F', 25, 1.7], ['Perez', 'F', 33, 1.6], ['Errazuriz', 'F', 29, 1.77], ['Gonzalez', 'M', 43, 1.9]]\n"
     ]
    }
   ],
   "source": [
    "from d_zip_listas import promedio\n",
    "#Las siguientes listas contienen: apellido, sexo, edad y altura\n",
    "lista1=['Larrain', 'F', 25, 1.70]\n",
    "lista2=['Perez', 'F', 33, 1.60]\n",
    "lista3=['Errazuriz', 'F', 29, 1.77]\n",
    "lista4=['Gonzalez', 'M', 43, 1.90]\n",
    "\n",
    "lista_concatenada = [lista1, lista2, lista3, lista4]\n",
    "# entrega una lista de listas pasando los elementos de forma secuencial\n",
    "print(lista_concatenada)"
   ]
  },
  {
   "cell_type": "markdown",
   "metadata": {},
   "source": [
    "no es lo mismo que suma de listas que entrega una lista larga de los elementos\n",
    "lista_sumadas = lista1 + lista2 + lista3 + lista4\n",
    "['Larrain', 'F', 25, 1.7, 'Perez', 'F', 33, 1.6, 'Errazuriz', 'F', 29, 1.77, 'Gonzalez', 'M', 43, 1.9]\n",
    "y creo que ésto es mejor según el Zen de python!! \n",
    "para ver el zen de python porner en el terminal: import this. \n",
    "Para entender mejor:  https://gist.github.com/javierdaza/4258b74e2eb7cfd4f55286061b592f37 "
   ]
  },
  {
   "cell_type": "code",
   "execution_count": 26,
   "metadata": {},
   "outputs": [
    {
     "name": "stdout",
     "output_type": "stream",
     "text": [
      "[25, 33, 29, 43] [1.7, 1.6, 1.77, 1.9]\n",
      "Promedio de edad:  32.5\n",
      "Promedio de altura:  1.74\n"
     ]
    }
   ],
   "source": [
    "campo2, campo3 = [], []\n",
    "for i in lista_concatenada:\n",
    "    campo2.append(i[2])\n",
    "    campo3.append(i[3])\n",
    "print(campo2, campo3)\n",
    "print(\"Promedio de edad: \", promedio(campo2))\n",
    "print(\"Promedio de altura: \", round(promedio(campo3), 2))"
   ]
  },
  {
   "cell_type": "code",
   "execution_count": 22,
   "metadata": {},
   "outputs": [
    {
     "name": "stdout",
     "output_type": "stream",
     "text": [
      "Larrain\n",
      "Perez\n",
      "Errazuriz\n"
     ]
    }
   ],
   "source": [
    "# lo siguiente es para las personas de sexo femenino\n",
    "for i in lista_concatenada:\n",
    "    if i[1] == 'F':\n",
    "        print(i[0])"
   ]
  },
  {
   "cell_type": "code",
   "execution_count": 23,
   "metadata": {},
   "outputs": [
    {
     "name": "stdout",
     "output_type": "stream",
     "text": [
      "[1.77, 1.9]\n"
     ]
    }
   ],
   "source": [
    "# lo siguiente es para mostrar los valores de la posción 3 mayores que el promedio\n",
    "campo = []\n",
    "for i in lista_concatenada:\n",
    "    campo.append(i[3])\n",
    "print(list(filter(lambda x: x > promedio(campo3), campo)))"
   ]
  },
  {
   "cell_type": "code",
   "execution_count": 24,
   "metadata": {},
   "outputs": [
    {
     "name": "stdout",
     "output_type": "stream",
     "text": [
      "Errazuriz\n",
      "Gonzalez\n"
     ]
    }
   ],
   "source": [
    "# lo siguiente es para mostrar los nombres de las personas que cumplen la condición anterior\n",
    "for i in lista_concatenada:\n",
    "    if i[3] > promedio(campo3):\n",
    "        print(i[0])"
   ]
  }
 ],
 "metadata": {
  "kernelspec": {
   "display_name": "Python 3",
   "language": "python",
   "name": "python3"
  },
  "language_info": {
   "codemirror_mode": {
    "name": "ipython",
    "version": 3
   },
   "file_extension": ".py",
   "mimetype": "text/x-python",
   "name": "python",
   "nbconvert_exporter": "python",
   "pygments_lexer": "ipython3",
   "version": "3.7.6"
  }
 },
 "nbformat": 4,
 "nbformat_minor": 4
}
